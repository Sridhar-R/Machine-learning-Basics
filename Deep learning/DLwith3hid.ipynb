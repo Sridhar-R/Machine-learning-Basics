{
 "cells": [
  {
   "cell_type": "code",
   "execution_count": 1,
   "metadata": {},
   "outputs": [],
   "source": [
    "import numpy as np\n",
    "\n",
    "x = np.array ([[0,0,0,0,0,0,0,0,0,1],\n",
    "               [0,0,0,0,0,0,0,0,1,0],\n",
    "               [0,0,0,0,0,0,0,1,0,0],\n",
    "               [0,0,0,0,0,0,1,0,0,0],\n",
    "               [0,0,0,0,0,1,0,0,0,0]])\n",
    "y = np.array([[0,1,0,1,1]])"
   ]
  },
  {
   "cell_type": "code",
   "execution_count": 2,
   "metadata": {},
   "outputs": [
    {
     "name": "stdout",
     "output_type": "stream",
     "text": [
      "(5, 10)\n",
      "(1, 5)\n"
     ]
    }
   ],
   "source": [
    "print (x.shape)\n",
    "print (y.shape)"
   ]
  },
  {
   "cell_type": "code",
   "execution_count": 3,
   "metadata": {},
   "outputs": [],
   "source": [
    "epoch_no=10000\n",
    "np.random.seed(1)"
   ]
  },
  {
   "cell_type": "code",
   "execution_count": 4,
   "metadata": {},
   "outputs": [],
   "source": [
    "weight0 = 2*np.random.random((10,8))- 1\n",
    "weight1 = 2*np.random.random((8,6)) - 1\n",
    "weight2 = 2*np.random.random((6,1)) - 1\n",
    "weight3 = 2*np.random.random((1,5)) - 1 "
   ]
  },
  {
   "cell_type": "code",
   "execution_count": 5,
   "metadata": {},
   "outputs": [],
   "source": [
    "def nonlin(x, deriv=False):\n",
    "    if deriv == 'True':\n",
    "        return x(1-x)\n",
    "\n",
    "    else:\n",
    "        return 1/(1+np.exp(-x))"
   ]
  },
  {
   "cell_type": "code",
   "execution_count": 6,
   "metadata": {},
   "outputs": [],
   "source": [
    "for j in range(epoch_no):\n",
    "    #feed forward through layers 1,2,3\n",
    "    l0 = x\n",
    "    l1 = nonlin(np.dot(l0,weight0))\n",
    "    l2 = nonlin(np.dot(l1,weight1))\n",
    "    l3 = nonlin(np.dot(l2,weight2))\n",
    "    l4 = nonlin(np.dot(l3,weight3))"
   ]
  },
  {
   "cell_type": "code",
   "execution_count": 7,
   "metadata": {},
   "outputs": [],
   "source": [
    "l4_error = y - l4\n",
    "l4_delta = l4_error * nonlin(l4, deriv=True)\n",
    "l3_error = np.dot(l4_delta, weight3.T)\n",
    "l3_delta = l3_error * nonlin(l3, deriv=True)"
   ]
  },
  {
   "cell_type": "code",
   "execution_count": 8,
   "metadata": {},
   "outputs": [],
   "source": [
    "l2_error = np.dot(l3_delta, weight2.T)  # l3_delta.dot(weight2.T)\n",
    "l2_delta = l2_error * nonlin(l2, deriv=True)\n",
    "l1_error = np.dot(l2_delta, weight1.T)  # l3_delta.dot(weight1.T)\n",
    "l1_delta = l1_error * nonlin(l1, deriv=True)"
   ]
  },
  {
   "cell_type": "code",
   "execution_count": 9,
   "metadata": {},
   "outputs": [],
   "source": [
    "weight3 += l3.T.dot(l4_delta)\n",
    "weight2 += l2.T.dot(l3_delta)\n",
    "weight1 += l1.T.dot(l2_delta)\n",
    "weight0 += l0.T.dot(l1_delta)"
   ]
  },
  {
   "cell_type": "code",
   "execution_count": 14,
   "metadata": {},
   "outputs": [
    {
     "name": "stdout",
     "output_type": "stream",
     "text": [
      "Using the Trained net for testing the input '1,1,0,0,0,0,0,0,0,0' \n",
      "[0.50017399 0.50000293 0.50022201 0.50119602 0.50484719]\n",
      "(5,)\n"
     ]
    }
   ],
   "source": [
    "if j == 1 :\n",
    "    print ('Initial error is - ',error.mean())\n",
    "if j%500 == 0:\n",
    "    print (\"%i iteration error is %s\"%(j,str(error.mean())))\n",
    "    \n",
    "print (\"Using the Trained net for testing the input '1,1,0,0,0,0,0,0,0,0' \")\n",
    "test = ([1,1,0,0,0,0,0,0,0,0])\n",
    "hidden_layer1 = nonlin(np.dot(test, weight0))\n",
    "hidden_layer2 = nonlin(np.dot(hidden_layer1, weight1))\n",
    "hidden_layer3 = nonlin(np.dot(hidden_layer2, weight2))\n",
    "test_output = nonlin(np.dot(hidden_layer3, weight3))\n",
    "print (test_output)\n",
    "print(test_output.shape)"
   ]
  },
  {
   "cell_type": "code",
   "execution_count": 11,
   "metadata": {},
   "outputs": [],
   "source": [
    "def pred(data):\n",
    "    for weight in [weight0, weight1, weight2, weight3]:\n",
    "        data = nonlin(np.dot(data, weight))\n",
    "    return data   "
   ]
  },
  {
   "cell_type": "code",
   "execution_count": 12,
   "metadata": {},
   "outputs": [
    {
     "name": "stdout",
     "output_type": "stream",
     "text": [
      "\n",
      "\n",
      "Predictions for: [[0, 0, 0, 0, 0, 0, 0, 0, 0, 1]]\n",
      "[[0.50010728 0.5000018  0.50013689 0.50073746 0.5029888 ]]\n",
      "(1, 5)\n"
     ]
    }
   ],
   "source": [
    "X_test = np.array([[0,0,0,0,0,0,0,0,0,1]])\n",
    "print('\\n\\nPredictions for: %s' % X_test.tolist())\n",
    "print(pred(X_test))\n",
    "print (pred(X_test).shape)\n"
   ]
  },
  {
   "cell_type": "code",
   "execution_count": null,
   "metadata": {},
   "outputs": [],
   "source": []
  }
 ],
 "metadata": {
  "kernelspec": {
   "display_name": "Python 3",
   "language": "python",
   "name": "python3"
  },
  "language_info": {
   "codemirror_mode": {
    "name": "ipython",
    "version": 3
   },
   "file_extension": ".py",
   "mimetype": "text/x-python",
   "name": "python",
   "nbconvert_exporter": "python",
   "pygments_lexer": "ipython3",
   "version": "3.6.5"
  }
 },
 "nbformat": 4,
 "nbformat_minor": 2
}

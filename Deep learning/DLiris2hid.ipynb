{
 "cells": [
  {
   "cell_type": "code",
   "execution_count": 1,
   "metadata": {},
   "outputs": [],
   "source": [
    "import numpy as np\n",
    "import matplotlib.pyplot as plt\n",
    "import pandas as pd\n",
    "import sklearn\n",
    "from sklearn.preprocessing import LabelEncoder"
   ]
  },
  {
   "cell_type": "code",
   "execution_count": 2,
   "metadata": {},
   "outputs": [
    {
     "name": "stdout",
     "output_type": "stream",
     "text": [
      "     SepalLengthCm  SepalWidthCm  PetalLengthCm  PetalWidthCm  Species\n",
      "0                8            14              4             1        0\n",
      "1                6             9              4             1        0\n",
      "2                4            11              3             1        0\n",
      "3                3            10              5             1        0\n",
      "4                7            15              4             1        0\n",
      "5               11            18              7             3        0\n",
      "6                3            13              4             2        0\n",
      "7                7            13              5             1        0\n",
      "8                1             8              4             1        0\n",
      "9                6            10              5             0        0\n",
      "10              11            16              5             1        0\n",
      "11               5            13              6             1        0\n",
      "12               5             9              4             0        0\n",
      "13               0             9              1             0        0\n",
      "14              15            19              2             1        0\n",
      "15              14            22              5             3        0\n",
      "16              11            18              3             3        0\n",
      "17               8            14              4             2        0\n",
      "18              14            17              7             2        0\n",
      "19               8            17              5             2        0\n",
      "20              11            13              7             1        0\n",
      "21               8            16              5             3        0\n",
      "22               3            15              0             1        0\n",
      "23               8            12              7             4        0\n",
      "24               5            13              8             1        0\n",
      "25               7             9              6             1        0\n",
      "26               7            13              6             3        0\n",
      "27               9            14              5             1        0\n",
      "28               9            13              4             1        0\n",
      "29               4            11              6             1        0\n",
      "..             ...           ...            ...           ...      ...\n",
      "120             26            11             33            19        2\n",
      "121             13             7             25            16        2\n",
      "122             33             7             41            16        2\n",
      "123             20             6             25            14        2\n",
      "124             24            12             33            17        2\n",
      "125             29            11             36            14        2\n",
      "126             19             7             24            14        2\n",
      "127             18             9             25            14        2\n",
      "128             21             7             32            17        2\n",
      "129             29             9             34            12        2\n",
      "130             31             7             37            15        2\n",
      "131             34            17             39            16        2\n",
      "132             21             7             32            18        2\n",
      "133             20             7             27            11        2\n",
      "134             18             5             32            10        2\n",
      "135             33             9             37            19        2\n",
      "136             20            13             32            20        2\n",
      "137             21            10             31            14        2\n",
      "138             17             9             24            14        2\n",
      "139             26            10             30            17        2\n",
      "140             24            10             32            20        2\n",
      "141             26            10             27            19        2\n",
      "142             15             6             27            15        2\n",
      "143             25            11             35            19        2\n",
      "144             24            12             33            21        2\n",
      "145             24             9             28            19        2\n",
      "146             20             4             26            15        2\n",
      "147             22             9             28            16        2\n",
      "148             19            13             30            19        2\n",
      "149             16             9             27            14        2\n",
      "\n",
      "[150 rows x 5 columns]\n"
     ]
    }
   ],
   "source": [
    "dataread=pd.read_csv(\"iris.data\",header=None, names=[\"SepalLengthCm\",\"SepalWidthCm\",\"PetalLengthCm\",\"PetalWidthCm\",\"Species\"])\n",
    "dataread=dataread.apply(LabelEncoder().fit_transform)\n",
    "print(dataread)"
   ]
  },
  {
   "cell_type": "code",
   "execution_count": 3,
   "metadata": {},
   "outputs": [
    {
     "name": "stdout",
     "output_type": "stream",
     "text": [
      "(150, 4)\n",
      "(150, 1)\n"
     ]
    }
   ],
   "source": [
    "x = dataread.iloc[:,0:4].values\n",
    "y = dataread.iloc[:, 4:5].values\n",
    "print (x.shape)\n",
    "print (y.shape)\n"
   ]
  },
  {
   "cell_type": "code",
   "execution_count": 4,
   "metadata": {},
   "outputs": [],
   "source": [
    "epoch_no=10000\n",
    "np.random.seed(1)\n"
   ]
  },
  {
   "cell_type": "code",
   "execution_count": 5,
   "metadata": {},
   "outputs": [],
   "source": [
    "weight0 = 2*np.random.random((4,8))- 1\n",
    "weight1 = 2*np.random.random((8,150)) - 1\n",
    "weight2 = 2*np.random.random((150,1)) - 1"
   ]
  },
  {
   "cell_type": "code",
   "execution_count": 6,
   "metadata": {},
   "outputs": [],
   "source": [
    "def nonlin(x, deriv=False):\n",
    "    if deriv == 'True':\n",
    "        return x(1-x)\n",
    "\n",
    "    else:\n",
    "        return 1/(1+np.exp(-x))"
   ]
  },
  {
   "cell_type": "code",
   "execution_count": 7,
   "metadata": {},
   "outputs": [],
   "source": [
    "for j in range(epoch_no):\n",
    "    #feed forward through layers 1,2,3\n",
    "    l0 = x\n",
    "    l1 = nonlin(np.dot(l0,weight0))\n",
    "    l2 = nonlin(np.dot(l1,weight1))\n",
    "    l3 = nonlin(np.dot(l2,weight2))"
   ]
  },
  {
   "cell_type": "code",
   "execution_count": 8,
   "metadata": {},
   "outputs": [],
   "source": [
    "l3_error = y - l3\n",
    "l3_delta = l3_error * nonlin(l3, deriv=True)\n",
    "l2_error = np.dot(l3_delta, weight2.T)  # l3_delta.dot(weight2.T)\n",
    "l2_delta = l2_error * nonlin(l2, deriv=True)\n",
    "l1_error = np.dot(l2_delta, weight1.T)  # l3_delta.dot(weight1.T)\n",
    "l1_delta = l1_error * nonlin(l1, deriv=True)"
   ]
  },
  {
   "cell_type": "code",
   "execution_count": 9,
   "metadata": {},
   "outputs": [],
   "source": [
    "weight2 += l2.T.dot(l3_delta)\n",
    "weight1 += l1.T.dot(l2_delta)\n",
    "weight0 += l0.T.dot(l1_delta)"
   ]
  },
  {
   "cell_type": "code",
   "execution_count": 10,
   "metadata": {},
   "outputs": [],
   "source": [
    "if j == 1 :\n",
    "    print ('Initial error is - ',error.mean())"
   ]
  },
  {
   "cell_type": "code",
   "execution_count": 11,
   "metadata": {},
   "outputs": [],
   "source": [
    "if j%500 == 0:\n",
    "    print (\"%i iteration error is %s\"%(j,str(error.mean())))"
   ]
  },
  {
   "cell_type": "code",
   "execution_count": 12,
   "metadata": {},
   "outputs": [
    {
     "name": "stdout",
     "output_type": "stream",
     "text": [
      "Using the Trained net for testing the input '12,9,27,14' \n",
      "[1.]\n",
      "(1,)\n"
     ]
    },
    {
     "name": "stderr",
     "output_type": "stream",
     "text": [
      "c:\\users\\admin\\appdata\\local\\programs\\python\\python36\\lib\\site-packages\\ipykernel_launcher.py:6: RuntimeWarning: overflow encountered in exp\n",
      "  \n"
     ]
    }
   ],
   "source": [
    "print (\"Using the Trained net for testing the input '12,9,27,14' \")\n",
    "test = ([12,8,30,12])\n",
    "hidden_layer1 = nonlin(np.dot(test, weight0))\n",
    "hidden_layer2 = nonlin(np.dot(hidden_layer1, weight1))\n",
    "test_output = nonlin(np.dot(hidden_layer2, weight2))\n",
    "print (test_output)\n",
    "print (test_output.shape)"
   ]
  },
  {
   "cell_type": "code",
   "execution_count": null,
   "metadata": {},
   "outputs": [],
   "source": []
  }
 ],
 "metadata": {
  "kernelspec": {
   "display_name": "Python 3",
   "language": "python",
   "name": "python3"
  },
  "language_info": {
   "codemirror_mode": {
    "name": "ipython",
    "version": 3
   },
   "file_extension": ".py",
   "mimetype": "text/x-python",
   "name": "python",
   "nbconvert_exporter": "python",
   "pygments_lexer": "ipython3",
   "version": "3.6.5"
  }
 },
 "nbformat": 4,
 "nbformat_minor": 2
}

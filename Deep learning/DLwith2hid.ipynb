{
 "cells": [
  {
   "cell_type": "code",
   "execution_count": 1,
   "metadata": {},
   "outputs": [],
   "source": [
    "import numpy as np\n"
   ]
  },
  {
   "cell_type": "code",
   "execution_count": 2,
   "metadata": {},
   "outputs": [],
   "source": [
    "x = np.array ([[0,0,0,0,0,0,0,0,0,1],\n",
    "               [0,0,0,0,0,0,0,0,1,0],\n",
    "               [0,0,0,0,0,0,0,1,0,0],\n",
    "               [0,0,0,0,0,0,1,0,0,0],\n",
    "               [0,0,0,0,0,1,0,0,0,0]])\n",
    "y = np.array([[0],[1],[1],[1],[1]])"
   ]
  },
  {
   "cell_type": "code",
   "execution_count": 3,
   "metadata": {},
   "outputs": [
    {
     "name": "stdout",
     "output_type": "stream",
     "text": [
      "(5, 10)\n",
      "(5, 1)\n"
     ]
    }
   ],
   "source": [
    "print (x.shape)\n",
    "print (y.shape)\n"
   ]
  },
  {
   "cell_type": "code",
   "execution_count": 4,
   "metadata": {},
   "outputs": [],
   "source": [
    "epoch_no=5000\n",
    "np.random.seed(1)"
   ]
  },
  {
   "cell_type": "code",
   "execution_count": 5,
   "metadata": {},
   "outputs": [],
   "source": [
    "weight0 = 2*np.random.random((10,7))- 1\n",
    "weight1 = 2*np.random.random((7,5)) - 1\n",
    "weight2 = 2*np.random.random((5,1)) - 1 \n"
   ]
  },
  {
   "cell_type": "code",
   "execution_count": 6,
   "metadata": {},
   "outputs": [],
   "source": [
    "def nonlin(x, deriv=False):\n",
    "    if deriv == 'True':\n",
    "        return x(1-x)\n",
    "\n",
    "    else:\n",
    "        return 1/(1+np.exp(-x))"
   ]
  },
  {
   "cell_type": "code",
   "execution_count": 7,
   "metadata": {},
   "outputs": [],
   "source": [
    "for j in range(epoch_no):\n",
    "    #feed forward through layers 1,2,3\n",
    "    l0 = x\n",
    "    l1 = nonlin(np.dot(l0,weight0))\n",
    "    l2 = nonlin(np.dot(l1,weight1))\n",
    "    l3 = nonlin(np.dot(l2,weight2))"
   ]
  },
  {
   "cell_type": "code",
   "execution_count": 8,
   "metadata": {},
   "outputs": [],
   "source": [
    "l3_error = y - l3\n",
    "l3_delta = l3_error * nonlin(l3, deriv=True)"
   ]
  },
  {
   "cell_type": "code",
   "execution_count": 9,
   "metadata": {},
   "outputs": [],
   "source": [
    "l2_error = np.dot(l3_delta, weight2.T)  # l3_delta.dot(weight2.T)\n",
    "l2_delta = l2_error * nonlin(l2, deriv=True)"
   ]
  },
  {
   "cell_type": "code",
   "execution_count": 10,
   "metadata": {},
   "outputs": [],
   "source": [
    "l1_error = np.dot(l2_delta, weight1.T)  # l3_delta.dot(weight1.T)\n",
    "l1_delta = l1_error * nonlin(l1, deriv=True)"
   ]
  },
  {
   "cell_type": "code",
   "execution_count": 11,
   "metadata": {},
   "outputs": [],
   "source": [
    "weight2 += l2.T.dot(l3_delta)\n",
    "weight1 += l1.T.dot(l2_delta)\n",
    "weight0 += l0.T.dot(l1_delta)"
   ]
  },
  {
   "cell_type": "code",
   "execution_count": 12,
   "metadata": {},
   "outputs": [],
   "source": [
    "if j == 1 :\n",
    "    print ('Initial error is - ',error.mean())\n",
    "    "
   ]
  },
  {
   "cell_type": "code",
   "execution_count": 13,
   "metadata": {},
   "outputs": [],
   "source": [
    "if j%500 == 0:\n",
    "    print (\"%i iteration error is %s\"%(j,str(error.mean())))"
   ]
  },
  {
   "cell_type": "code",
   "execution_count": 14,
   "metadata": {},
   "outputs": [
    {
     "name": "stdout",
     "output_type": "stream",
     "text": [
      "Using the Trained net for testing the input '1,1,0,0,0,0,0,0,0,0' \n",
      "[0.47662517 0.61158648 0.66918604 0.59521234 0.70097928]\n"
     ]
    }
   ],
   "source": [
    "print (\"Using the Trained net for testing the input '1,1,0,0,0,0,0,0,0,0' \")\n",
    "test = ([1,1,0,0,0,0,0,0,0,0])\n",
    "hidden_layer = nonlin(np.dot(test, weight0))\n",
    "test_output = nonlin(np.dot(hidden_layer, weight1))\n",
    "print (test_output)"
   ]
  },
  {
   "cell_type": "code",
   "execution_count": null,
   "metadata": {},
   "outputs": [],
   "source": []
  }
 ],
 "metadata": {
  "kernelspec": {
   "display_name": "Python 3",
   "language": "python",
   "name": "python3"
  },
  "language_info": {
   "codemirror_mode": {
    "name": "ipython",
    "version": 3
   },
   "file_extension": ".py",
   "mimetype": "text/x-python",
   "name": "python",
   "nbconvert_exporter": "python",
   "pygments_lexer": "ipython3",
   "version": "3.6.5"
  }
 },
 "nbformat": 4,
 "nbformat_minor": 2
}

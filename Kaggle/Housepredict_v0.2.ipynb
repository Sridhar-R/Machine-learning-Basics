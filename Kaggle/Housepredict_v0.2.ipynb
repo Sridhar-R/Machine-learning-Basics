{
 "cells": [
  {
   "cell_type": "code",
   "execution_count": 1,
   "metadata": {},
   "outputs": [],
   "source": [
    "import numpy as np\n",
    "import matplotlib.pyplot as plt\n",
    "import pandas as pd\n",
    "import sklearn"
   ]
  },
  {
   "cell_type": "code",
   "execution_count": 6,
   "metadata": {},
   "outputs": [
    {
     "data": {
      "text/html": [
       "<div>\n",
       "<style scoped>\n",
       "    .dataframe tbody tr th:only-of-type {\n",
       "        vertical-align: middle;\n",
       "    }\n",
       "\n",
       "    .dataframe tbody tr th {\n",
       "        vertical-align: top;\n",
       "    }\n",
       "\n",
       "    .dataframe thead th {\n",
       "        text-align: right;\n",
       "    }\n",
       "</style>\n",
       "<table border=\"1\" class=\"dataframe\">\n",
       "  <thead>\n",
       "    <tr style=\"text-align: right;\">\n",
       "      <th></th>\n",
       "      <th>MSSubClass</th>\n",
       "      <th>LotArea</th>\n",
       "      <th>OverallQual</th>\n",
       "      <th>OverallCond</th>\n",
       "      <th>YearBuilt</th>\n",
       "      <th>BedroomAbvGr</th>\n",
       "      <th>MoSold</th>\n",
       "      <th>YrSold</th>\n",
       "      <th>SalePrice</th>\n",
       "    </tr>\n",
       "  </thead>\n",
       "  <tbody>\n",
       "    <tr>\n",
       "      <th>0</th>\n",
       "      <td>60</td>\n",
       "      <td>8450</td>\n",
       "      <td>7</td>\n",
       "      <td>5</td>\n",
       "      <td>2003</td>\n",
       "      <td>3</td>\n",
       "      <td>2</td>\n",
       "      <td>2008</td>\n",
       "      <td>208500</td>\n",
       "    </tr>\n",
       "    <tr>\n",
       "      <th>1</th>\n",
       "      <td>20</td>\n",
       "      <td>9600</td>\n",
       "      <td>6</td>\n",
       "      <td>8</td>\n",
       "      <td>1976</td>\n",
       "      <td>3</td>\n",
       "      <td>5</td>\n",
       "      <td>2007</td>\n",
       "      <td>181500</td>\n",
       "    </tr>\n",
       "    <tr>\n",
       "      <th>2</th>\n",
       "      <td>60</td>\n",
       "      <td>11250</td>\n",
       "      <td>7</td>\n",
       "      <td>5</td>\n",
       "      <td>2001</td>\n",
       "      <td>3</td>\n",
       "      <td>9</td>\n",
       "      <td>2008</td>\n",
       "      <td>223500</td>\n",
       "    </tr>\n",
       "    <tr>\n",
       "      <th>3</th>\n",
       "      <td>70</td>\n",
       "      <td>9550</td>\n",
       "      <td>7</td>\n",
       "      <td>5</td>\n",
       "      <td>1915</td>\n",
       "      <td>3</td>\n",
       "      <td>2</td>\n",
       "      <td>2006</td>\n",
       "      <td>140000</td>\n",
       "    </tr>\n",
       "    <tr>\n",
       "      <th>4</th>\n",
       "      <td>60</td>\n",
       "      <td>14260</td>\n",
       "      <td>8</td>\n",
       "      <td>5</td>\n",
       "      <td>2000</td>\n",
       "      <td>4</td>\n",
       "      <td>12</td>\n",
       "      <td>2008</td>\n",
       "      <td>250000</td>\n",
       "    </tr>\n",
       "  </tbody>\n",
       "</table>\n",
       "</div>"
      ],
      "text/plain": [
       "   MSSubClass  LotArea  OverallQual  OverallCond  YearBuilt  BedroomAbvGr  \\\n",
       "0          60     8450            7            5       2003             3   \n",
       "1          20     9600            6            8       1976             3   \n",
       "2          60    11250            7            5       2001             3   \n",
       "3          70     9550            7            5       1915             3   \n",
       "4          60    14260            8            5       2000             4   \n",
       "\n",
       "   MoSold  YrSold  SalePrice  \n",
       "0       2    2008     208500  \n",
       "1       5    2007     181500  \n",
       "2       9    2008     223500  \n",
       "3       2    2006     140000  \n",
       "4      12    2008     250000  "
      ]
     },
     "execution_count": 6,
     "metadata": {},
     "output_type": "execute_result"
    }
   ],
   "source": [
    "from sklearn.preprocessing import LabelEncoder\n",
    "dataread=pd.read_csv('housetrain.csv')\n",
    "df=pd.DataFrame(dataread[['MSSubClass','LotArea','OverallQual','OverallCond','YearBuilt','BedroomAbvGr','MoSold','YrSold','SalePrice']])\n",
    "df.head()"
   ]
  },
  {
   "cell_type": "code",
   "execution_count": 22,
   "metadata": {},
   "outputs": [],
   "source": [
    "X = pd.DataFrame(df.iloc[:, 0:8].values)\n",
    "y = pd.DataFrame(df.iloc[:, 8:9].values)"
   ]
  },
  {
   "cell_type": "code",
   "execution_count": 8,
   "metadata": {},
   "outputs": [
    {
     "name": "stderr",
     "output_type": "stream",
     "text": [
      "c:\\users\\admin\\appdata\\local\\programs\\python\\python36\\lib\\site-packages\\sklearn\\cross_validation.py:41: DeprecationWarning: This module was deprecated in version 0.18 in favor of the model_selection module into which all the refactored classes and functions are moved. Also note that the interface of the new CV iterators are different from that of this module. This module will be removed in 0.20.\n",
      "  \"This module will be removed in 0.20.\", DeprecationWarning)\n"
     ]
    }
   ],
   "source": [
    "from sklearn.cross_validation import train_test_split\n",
    "X_train, X_test, y_train, y_test = train_test_split(X, y, test_size = 0.35, random_state = 1)"
   ]
  },
  {
   "cell_type": "code",
   "execution_count": 9,
   "metadata": {},
   "outputs": [],
   "source": [
    "from sklearn.preprocessing import StandardScaler\n",
    "sc = StandardScaler()\n",
    "X_train = sc.fit_transform(X_train)\n",
    "X_test = sc.transform(X_test)"
   ]
  },
  {
   "cell_type": "code",
   "execution_count": 10,
   "metadata": {},
   "outputs": [
    {
     "name": "stderr",
     "output_type": "stream",
     "text": [
      "c:\\users\\admin\\appdata\\local\\programs\\python\\python36\\lib\\site-packages\\sklearn\\utils\\validation.py:578: DataConversionWarning: A column-vector y was passed when a 1d array was expected. Please change the shape of y to (n_samples, ), for example using ravel().\n",
      "  y = column_or_1d(y, warn=True)\n"
     ]
    },
    {
     "data": {
      "text/plain": [
       "LogisticRegression(C=1.0, class_weight=None, dual=False, fit_intercept=True,\n",
       "          intercept_scaling=1, max_iter=100, multi_class='ovr', n_jobs=1,\n",
       "          penalty='l2', random_state=0, solver='liblinear', tol=0.0001,\n",
       "          verbose=0, warm_start=False)"
      ]
     },
     "execution_count": 10,
     "metadata": {},
     "output_type": "execute_result"
    }
   ],
   "source": [
    "from sklearn.linear_model import LogisticRegression\n",
    "classifier = LogisticRegression(random_state = 0)\n",
    "classifier.fit(X_train, y_train)"
   ]
  },
  {
   "cell_type": "code",
   "execution_count": 11,
   "metadata": {},
   "outputs": [
    {
     "name": "stdout",
     "output_type": "stream",
     "text": [
      "[190000 155000 128000 140000 110000 215000 250000 130000 250000 140000\n",
      " 145000 110000 155000 280000 142500 100000 145000 100000 143000 140000\n",
      " 190000 128000 212000 325000 110000 140000 140000 190000 290000 140000\n",
      " 105000 130000 135000 140000 108000 250000 110000 100000 200000 140000\n",
      " 128000 110000 100000 140000 190000 110000 140000 214000 215000 235000\n",
      " 123000 140000 127000 192000 275000 110000 190000 155000 100000 155000\n",
      " 127000 250000 110000 140000 135000 135000 140000 260000 142500 155000\n",
      " 145000 140000 250000 122000 120000 196000 190000 140000 315000 140000\n",
      " 155000 135000 140000 128000 155000 116000 155000 142500 190000 190000\n",
      " 130000 142500 112000 145000 110000 100000 100000 135000 155000 190000\n",
      " 190000 143000 128000 145000 120000 140000 190000 122000 127000 192000\n",
      " 140000 116000 128000 214000 250000 190000 214000 127000 145000 235000\n",
      " 110000 250000 200000 122000 130000 142500 325000 110000 160000 190000\n",
      " 190000 110000 100000 145000 100000 190000 250000 239000 142500 155000\n",
      " 140000 200000 135000 140000 110000 190000 130000 190000 250000 143000\n",
      " 190000 155000 143000 190000 140000 250000 110000 190000 128000 130000\n",
      " 110000 100000 140000 140000 140000 110000 155000 145000 200000 140000\n",
      " 190000 140000 250000 215000 190000 140000 155000 190000 190000 110000\n",
      " 108000 190000 190000 116000 214000 127500 190000 250000 127000 100000\n",
      " 120000 145000 140000 155000 128000 250000 190000 135000 135000 100000\n",
      " 155000 200000 140000 155000 149000 143000 190000 142500 325000 160000\n",
      " 190000 120000 140000 145000 215000 250000 139000 100000 190000 127500\n",
      " 250000 127500 130000 250000 127000 100000 192000 127500 140000 127500\n",
      " 100000 190000 128000 128000 325000 200000 250000 108000 128000 250000\n",
      " 235000 122000 145000 200000 112000 155000 130000 116000 142500 140000\n",
      " 135000 149000 142500 127000 112000 116000 155000 100000 315000 110000\n",
      " 192000 190000 190000 130000 140000 142500 110000 140000 155000 140000\n",
      " 127500 190000  87000 190000 155000 130000 130000 100000 127000 135000\n",
      " 128000 130000 100000 145000 127500 142500 155000 100000 250000 108000\n",
      " 110000 215000 127500 140000 250000 179900 190000 190000 145000 135000\n",
      " 142500 190000 120000 155000 143000 143000 128000 145000 127500 142500\n",
      " 140000 155000 127000 250000 155000 110000 250000 190000 179900 142500\n",
      " 190000 155000 105000 127500 140000 250000 140000 190000 128000 155000\n",
      " 190000 239000 190000 214000 190000 145000 130000 100000 190000 190000\n",
      " 214000 143000 100000 140000 100000 145000 110000 145000 325000 100000\n",
      " 196000 214000 250000 110000 100000 112000 155000 148000 110000 250000\n",
      " 140000 250000 140000 214000 200000 250000 140000 130000 142500 235000\n",
      " 135000 140000 214000 140000 239000 200000 112000 140000 140000 325000\n",
      " 130000 100000 230000 110000 120000 290000 140000 325000 140000 140000\n",
      " 250000 143000 190000 214000 127500 140000 127000 215000 145000 235000\n",
      " 250000 239000 250000 140000 155000 190000 110000 135000 250000 185000\n",
      " 135000 155000 190000 122000 100000 143000 160000 108000 140000 140000\n",
      " 100000 108000 122000 120000 155000 215000 325000 140000 143000 100000\n",
      " 142500 128000 250000 250000 239000 140000 142500 190000 110000 235000\n",
      " 108000 137000 110000 127500 135000 110000 235000 145000 110000 190000\n",
      " 127500 145000 110000 179900 135000 200000 140000 155000 145000 190000\n",
      " 239000 135000 100000 190000 142500 235000 214000 135000 230000 143000\n",
      " 250000 128000 155000 130000 250000 140000 275000 215000 325000 214000\n",
      " 155000 235000 190000 140000 250000 190000 127500 214000 130000 214000\n",
      " 128000 155000 100000 120000 190000 127000 120000 135000 235000 142500\n",
      " 110000 215000 239000 250000 155000 120000 108000 190000 127500 155000\n",
      " 140000]\n"
     ]
    }
   ],
   "source": [
    "y_pred = classifier.predict(X_test)\n",
    "print (y_pred)"
   ]
  },
  {
   "cell_type": "code",
   "execution_count": 12,
   "metadata": {},
   "outputs": [
    {
     "data": {
      "text/plain": [
       "array([[0, 0, 0, ..., 0, 0, 0],\n",
       "       [0, 0, 0, ..., 0, 0, 0],\n",
       "       [0, 0, 0, ..., 0, 0, 0],\n",
       "       ...,\n",
       "       [0, 0, 0, ..., 0, 0, 0],\n",
       "       [0, 0, 0, ..., 0, 0, 0],\n",
       "       [0, 0, 0, ..., 0, 0, 0]], dtype=int64)"
      ]
     },
     "execution_count": 12,
     "metadata": {},
     "output_type": "execute_result"
    }
   ],
   "source": [
    "from sklearn.metrics import confusion_matrix\n",
    "cm = confusion_matrix(y_test, y_pred)\n",
    "cm"
   ]
  },
  {
   "cell_type": "code",
   "execution_count": 24,
   "metadata": {},
   "outputs": [
    {
     "name": "stderr",
     "output_type": "stream",
     "text": [
      "c:\\users\\admin\\appdata\\local\\programs\\python\\python36\\lib\\site-packages\\sklearn\\utils\\validation.py:578: DataConversionWarning: A column-vector y was passed when a 1d array was expected. Please change the shape of y to (n_samples, ), for example using ravel().\n",
      "  y = column_or_1d(y, warn=True)\n"
     ]
    },
    {
     "data": {
      "text/plain": [
       "0.01643835616438356"
      ]
     },
     "execution_count": 24,
     "metadata": {},
     "output_type": "execute_result"
    }
   ],
   "source": [
    "from sklearn.linear_model import LogisticRegression\n",
    "clf = LogisticRegression(random_state=0, solver='lbfgs',multi_class='multinomial').fit(X, y)\n",
    "clf.score(X, y, sample_weight=None)\n"
   ]
  },
  {
   "cell_type": "code",
   "execution_count": null,
   "metadata": {},
   "outputs": [],
   "source": []
  }
 ],
 "metadata": {
  "kernelspec": {
   "display_name": "Python 3",
   "language": "python",
   "name": "python3"
  },
  "language_info": {
   "codemirror_mode": {
    "name": "ipython",
    "version": 3
   },
   "file_extension": ".py",
   "mimetype": "text/x-python",
   "name": "python",
   "nbconvert_exporter": "python",
   "pygments_lexer": "ipython3",
   "version": "3.6.5"
  }
 },
 "nbformat": 4,
 "nbformat_minor": 2
}

{
 "cells": [
  {
   "cell_type": "code",
   "execution_count": 1,
   "metadata": {},
   "outputs": [],
   "source": [
    "import numpy as np\n",
    "import matplotlib.pyplot as pt\n",
    "import pandas as pd\n",
    "import  sklearn\n"
   ]
  },
  {
   "cell_type": "code",
   "execution_count": 2,
   "metadata": {},
   "outputs": [
    {
     "data": {
      "text/html": [
       "<div>\n",
       "<style scoped>\n",
       "    .dataframe tbody tr th:only-of-type {\n",
       "        vertical-align: middle;\n",
       "    }\n",
       "\n",
       "    .dataframe tbody tr th {\n",
       "        vertical-align: top;\n",
       "    }\n",
       "\n",
       "    .dataframe thead th {\n",
       "        text-align: right;\n",
       "    }\n",
       "</style>\n",
       "<table border=\"1\" class=\"dataframe\">\n",
       "  <thead>\n",
       "    <tr style=\"text-align: right;\">\n",
       "      <th></th>\n",
       "      <th>Id</th>\n",
       "      <th>MSSubClass</th>\n",
       "      <th>MSZoning</th>\n",
       "      <th>LotFrontage</th>\n",
       "      <th>LotArea</th>\n",
       "      <th>Street</th>\n",
       "      <th>Alley</th>\n",
       "      <th>LotShape</th>\n",
       "      <th>LandContour</th>\n",
       "      <th>Utilities</th>\n",
       "      <th>...</th>\n",
       "      <th>PoolArea</th>\n",
       "      <th>PoolQC</th>\n",
       "      <th>Fence</th>\n",
       "      <th>MiscFeature</th>\n",
       "      <th>MiscVal</th>\n",
       "      <th>MoSold</th>\n",
       "      <th>YrSold</th>\n",
       "      <th>SaleType</th>\n",
       "      <th>SaleCondition</th>\n",
       "      <th>SalePrice</th>\n",
       "    </tr>\n",
       "  </thead>\n",
       "  <tbody>\n",
       "    <tr>\n",
       "      <th>0</th>\n",
       "      <td>1</td>\n",
       "      <td>60</td>\n",
       "      <td>RL</td>\n",
       "      <td>65.0</td>\n",
       "      <td>8450</td>\n",
       "      <td>Pave</td>\n",
       "      <td>NaN</td>\n",
       "      <td>Reg</td>\n",
       "      <td>Lvl</td>\n",
       "      <td>AllPub</td>\n",
       "      <td>...</td>\n",
       "      <td>0</td>\n",
       "      <td>NaN</td>\n",
       "      <td>NaN</td>\n",
       "      <td>NaN</td>\n",
       "      <td>0</td>\n",
       "      <td>2</td>\n",
       "      <td>2008</td>\n",
       "      <td>WD</td>\n",
       "      <td>Normal</td>\n",
       "      <td>208500</td>\n",
       "    </tr>\n",
       "    <tr>\n",
       "      <th>1</th>\n",
       "      <td>2</td>\n",
       "      <td>20</td>\n",
       "      <td>RL</td>\n",
       "      <td>80.0</td>\n",
       "      <td>9600</td>\n",
       "      <td>Pave</td>\n",
       "      <td>NaN</td>\n",
       "      <td>Reg</td>\n",
       "      <td>Lvl</td>\n",
       "      <td>AllPub</td>\n",
       "      <td>...</td>\n",
       "      <td>0</td>\n",
       "      <td>NaN</td>\n",
       "      <td>NaN</td>\n",
       "      <td>NaN</td>\n",
       "      <td>0</td>\n",
       "      <td>5</td>\n",
       "      <td>2007</td>\n",
       "      <td>WD</td>\n",
       "      <td>Normal</td>\n",
       "      <td>181500</td>\n",
       "    </tr>\n",
       "    <tr>\n",
       "      <th>2</th>\n",
       "      <td>3</td>\n",
       "      <td>60</td>\n",
       "      <td>RL</td>\n",
       "      <td>68.0</td>\n",
       "      <td>11250</td>\n",
       "      <td>Pave</td>\n",
       "      <td>NaN</td>\n",
       "      <td>IR1</td>\n",
       "      <td>Lvl</td>\n",
       "      <td>AllPub</td>\n",
       "      <td>...</td>\n",
       "      <td>0</td>\n",
       "      <td>NaN</td>\n",
       "      <td>NaN</td>\n",
       "      <td>NaN</td>\n",
       "      <td>0</td>\n",
       "      <td>9</td>\n",
       "      <td>2008</td>\n",
       "      <td>WD</td>\n",
       "      <td>Normal</td>\n",
       "      <td>223500</td>\n",
       "    </tr>\n",
       "    <tr>\n",
       "      <th>3</th>\n",
       "      <td>4</td>\n",
       "      <td>70</td>\n",
       "      <td>RL</td>\n",
       "      <td>60.0</td>\n",
       "      <td>9550</td>\n",
       "      <td>Pave</td>\n",
       "      <td>NaN</td>\n",
       "      <td>IR1</td>\n",
       "      <td>Lvl</td>\n",
       "      <td>AllPub</td>\n",
       "      <td>...</td>\n",
       "      <td>0</td>\n",
       "      <td>NaN</td>\n",
       "      <td>NaN</td>\n",
       "      <td>NaN</td>\n",
       "      <td>0</td>\n",
       "      <td>2</td>\n",
       "      <td>2006</td>\n",
       "      <td>WD</td>\n",
       "      <td>Abnorml</td>\n",
       "      <td>140000</td>\n",
       "    </tr>\n",
       "    <tr>\n",
       "      <th>4</th>\n",
       "      <td>5</td>\n",
       "      <td>60</td>\n",
       "      <td>RL</td>\n",
       "      <td>84.0</td>\n",
       "      <td>14260</td>\n",
       "      <td>Pave</td>\n",
       "      <td>NaN</td>\n",
       "      <td>IR1</td>\n",
       "      <td>Lvl</td>\n",
       "      <td>AllPub</td>\n",
       "      <td>...</td>\n",
       "      <td>0</td>\n",
       "      <td>NaN</td>\n",
       "      <td>NaN</td>\n",
       "      <td>NaN</td>\n",
       "      <td>0</td>\n",
       "      <td>12</td>\n",
       "      <td>2008</td>\n",
       "      <td>WD</td>\n",
       "      <td>Normal</td>\n",
       "      <td>250000</td>\n",
       "    </tr>\n",
       "  </tbody>\n",
       "</table>\n",
       "<p>5 rows × 81 columns</p>\n",
       "</div>"
      ],
      "text/plain": [
       "   Id  MSSubClass MSZoning  LotFrontage  LotArea Street Alley LotShape  \\\n",
       "0   1          60       RL         65.0     8450   Pave   NaN      Reg   \n",
       "1   2          20       RL         80.0     9600   Pave   NaN      Reg   \n",
       "2   3          60       RL         68.0    11250   Pave   NaN      IR1   \n",
       "3   4          70       RL         60.0     9550   Pave   NaN      IR1   \n",
       "4   5          60       RL         84.0    14260   Pave   NaN      IR1   \n",
       "\n",
       "  LandContour Utilities    ...     PoolArea PoolQC Fence MiscFeature MiscVal  \\\n",
       "0         Lvl    AllPub    ...            0    NaN   NaN         NaN       0   \n",
       "1         Lvl    AllPub    ...            0    NaN   NaN         NaN       0   \n",
       "2         Lvl    AllPub    ...            0    NaN   NaN         NaN       0   \n",
       "3         Lvl    AllPub    ...            0    NaN   NaN         NaN       0   \n",
       "4         Lvl    AllPub    ...            0    NaN   NaN         NaN       0   \n",
       "\n",
       "  MoSold YrSold  SaleType  SaleCondition  SalePrice  \n",
       "0      2   2008        WD         Normal     208500  \n",
       "1      5   2007        WD         Normal     181500  \n",
       "2      9   2008        WD         Normal     223500  \n",
       "3      2   2006        WD        Abnorml     140000  \n",
       "4     12   2008        WD         Normal     250000  \n",
       "\n",
       "[5 rows x 81 columns]"
      ]
     },
     "execution_count": 2,
     "metadata": {},
     "output_type": "execute_result"
    }
   ],
   "source": [
    "dataset = pd.read_csv('housetrain.csv')\n",
    "dataset.head()"
   ]
  },
  {
   "cell_type": "code",
   "execution_count": 3,
   "metadata": {},
   "outputs": [
    {
     "name": "stdout",
     "output_type": "stream",
     "text": [
      "0       VinylSd\n",
      "1       MetalSd\n",
      "2       VinylSd\n",
      "3       Wd Sdng\n",
      "4       VinylSd\n",
      "5       VinylSd\n",
      "6       VinylSd\n",
      "7       HdBoard\n",
      "8       BrkFace\n",
      "9       MetalSd\n",
      "10      HdBoard\n",
      "11      WdShing\n",
      "12      HdBoard\n",
      "13      VinylSd\n",
      "14      MetalSd\n",
      "15      Wd Sdng\n",
      "16      Wd Sdng\n",
      "17      MetalSd\n",
      "18      VinylSd\n",
      "19      BrkFace\n",
      "20      VinylSd\n",
      "21      Wd Sdng\n",
      "22      VinylSd\n",
      "23      CemntBd\n",
      "24      Plywood\n",
      "25      VinylSd\n",
      "26      Wd Sdng\n",
      "27      VinylSd\n",
      "28      MetalSd\n",
      "29      MetalSd\n",
      "         ...   \n",
      "1430    VinylSd\n",
      "1431    Plywood\n",
      "1432    Wd Sdng\n",
      "1433    VinylSd\n",
      "1434    BrkFace\n",
      "1435    Wd Sdng\n",
      "1436    HdBoard\n",
      "1437    VinylSd\n",
      "1438    MetalSd\n",
      "1439    HdBoard\n",
      "1440    MetalSd\n",
      "1441    VinylSd\n",
      "1442    VinylSd\n",
      "1443    Wd Sdng\n",
      "1444    VinylSd\n",
      "1445    VinylSd\n",
      "1446    HdBoard\n",
      "1447    VinylSd\n",
      "1448    MetalSd\n",
      "1449    CemntBd\n",
      "1450    VinylSd\n",
      "1451    CemntBd\n",
      "1452    VinylSd\n",
      "1453    VinylSd\n",
      "1454    VinylSd\n",
      "1455    VinylSd\n",
      "1456    Plywood\n",
      "1457    CemntBd\n",
      "1458    MetalSd\n",
      "1459    HdBoard\n",
      "Name: Exterior1st, Length: 1460, dtype: object\n"
     ]
    }
   ],
   "source": [
    "from sklearn import preprocessing\n",
    "from sklearn.preprocessing import LabelEncoder\n",
    "le = preprocessing.LabelEncoder()\n",
    "dataset[\"PavedDrive1\"] = le.fit_transform(dataset[\"PavedDrive\"])\n",
    "dataset[\"Street1\"] = le.fit_transform(dataset[\"Street\"])\n",
    "dataset[\"LotShape1\"] = le.fit_transform(dataset[\"LotShape\"])\n",
    "dataset[\"LandContour1\"] = le.fit_transform(dataset[\"LandContour\"])\n",
    "dataset[\"Utilities1\"] = le.fit_transform(dataset[\"Utilities\"])\n",
    "dataset[\"LotConfig1\"] = le.fit_transform(dataset[\"LotConfig\"])\n",
    "dataset[\"Neighborhood1\"] = le.fit_transform(dataset[\"Neighborhood\"])\n",
    "dataset[\"LandSlope1\"] = le.fit_transform(dataset[\"LandSlope\"])\n",
    "dataset[\"Condition1a\"] = le.fit_transform(dataset[\"Condition1\"])\n",
    "dataset[\"Condition2a\"] = le.fit_transform(dataset[\"Condition2\"])\n",
    "dataset[\"BldgType1\"] = le.fit_transform(dataset[\"BldgType\"])\n",
    "dataset[\"HouseStyle1\"] = le.fit_transform(dataset[\"HouseStyle\"])\n",
    "dataset[\"RoofStyle1\"] = le.fit_transform(dataset[\"RoofStyle\"])\n",
    "dataset[\"RoofMatl1\"] = le.fit_transform(dataset[\"RoofMatl\"])\n",
    "dataset[\"Exterior1st1\"] = le.fit_transform(dataset[\"Exterior1st\"])\n",
    "dataset[\"Exterior2nd1\"] = le.fit_transform(dataset[\"Exterior2nd\"])\n",
    "print(dataset['Exterior1st'])\n",
    "#print(dataset['Street1'])"
   ]
  },
  {
   "cell_type": "code",
   "execution_count": 4,
   "metadata": {},
   "outputs": [
    {
     "name": "stdout",
     "output_type": "stream",
     "text": [
      "   MSSubClass  LotArea  Street1  LotShape1  LandContour1  Utilities1  \\\n",
      "0          60     8450        1          3             3           0   \n",
      "1          20     9600        1          3             3           0   \n",
      "2          60    11250        1          0             3           0   \n",
      "3          70     9550        1          0             3           0   \n",
      "4          60    14260        1          0             3           0   \n",
      "\n",
      "   LotConfig1  LandSlope1  Neighborhood1  Condition1a    ...      GarageCars  \\\n",
      "0           4           0              5            2    ...               2   \n",
      "1           2           0             24            1    ...               2   \n",
      "2           4           0              5            2    ...               2   \n",
      "3           0           0              6            2    ...               3   \n",
      "4           2           0             15            2    ...               3   \n",
      "\n",
      "   GarageArea  PavedDrive1  MoSold  YrSold  RoofStyle1  RoofMatl1  \\\n",
      "0         548            2       2    2008           1          1   \n",
      "1         460            2       5    2007           1          1   \n",
      "2         608            2       9    2008           1          1   \n",
      "3         642            2       2    2006           1          1   \n",
      "4         836            2      12    2008           1          1   \n",
      "\n",
      "   Exterior1st1  Exterior2nd1  SalePrice  \n",
      "0            12            13     208500  \n",
      "1             8             8     181500  \n",
      "2            12            13     223500  \n",
      "3            13            15     140000  \n",
      "4            12            13     250000  \n",
      "\n",
      "[5 rows x 30 columns]\n"
     ]
    }
   ],
   "source": [
    "df=pd.DataFrame(dataset[['MSSubClass','LotArea','Street1','LotShape1','LandContour1','Utilities1','LotConfig1','LandSlope1','Neighborhood1','Condition1a','Condition2a','BldgType1','HouseStyle1','OverallQual','OverallCond','YearBuilt','YearRemodAdd','BedroomAbvGr','TotRmsAbvGrd','Fireplaces','GarageCars','GarageArea','PavedDrive1','MoSold','YrSold','RoofStyle1','RoofMatl1','Exterior1st1','Exterior2nd1','SalePrice']])\n",
    "print(df.head())"
   ]
  },
  {
   "cell_type": "code",
   "execution_count": 5,
   "metadata": {},
   "outputs": [
    {
     "name": "stdout",
     "output_type": "stream",
     "text": [
      "   0      1   2   3   4   5   6   7   8   9  ...  19  20   21  22  23    24  \\\n",
      "0  60   8450   1   3   3   0   4   0   5   2 ...   0   2  548   2   2  2008   \n",
      "1  20   9600   1   3   3   0   2   0  24   1 ...   1   2  460   2   5  2007   \n",
      "2  60  11250   1   0   3   0   4   0   5   2 ...   1   2  608   2   9  2008   \n",
      "3  70   9550   1   0   3   0   0   0   6   2 ...   1   3  642   2   2  2006   \n",
      "4  60  14260   1   0   3   0   2   0  15   2 ...   1   3  836   2  12  2008   \n",
      "\n",
      "   25  26  27  28  \n",
      "0   1   1  12  13  \n",
      "1   1   1   8   8  \n",
      "2   1   1  12  13  \n",
      "3   1   1  13  15  \n",
      "4   1   1  12  13  \n",
      "\n",
      "[5 rows x 29 columns]\n",
      "    0\n",
      "0  13\n",
      "1   8\n",
      "2  13\n",
      "3  15\n",
      "4  13\n"
     ]
    }
   ],
   "source": [
    "X = pd.DataFrame(df.iloc[:, 0:29].values)\n",
    "y = pd.DataFrame(df.iloc[:, 28:29].values)\n",
    "print (X.head())\n",
    "print (y.head())"
   ]
  },
  {
   "cell_type": "code",
   "execution_count": 6,
   "metadata": {},
   "outputs": [
    {
     "name": "stderr",
     "output_type": "stream",
     "text": [
      "c:\\users\\admin\\appdata\\local\\programs\\python\\python36\\lib\\site-packages\\sklearn\\cross_validation.py:41: DeprecationWarning: This module was deprecated in version 0.18 in favor of the model_selection module into which all the refactored classes and functions are moved. Also note that the interface of the new CV iterators are different from that of this module. This module will be removed in 0.20.\n",
      "  \"This module will be removed in 0.20.\", DeprecationWarning)\n"
     ]
    }
   ],
   "source": [
    "from sklearn.cross_validation import train_test_split\n",
    "X_train, X_test, y_train, y_test = train_test_split(X, y, test_size = 0.1, random_state = 0)"
   ]
  },
  {
   "cell_type": "code",
   "execution_count": 7,
   "metadata": {},
   "outputs": [
    {
     "data": {
      "text/plain": [
       "MSSubClass       False\n",
       "LotArea          False\n",
       "Street1          False\n",
       "LotShape1        False\n",
       "LandContour1     False\n",
       "Utilities1       False\n",
       "LotConfig1       False\n",
       "LandSlope1       False\n",
       "Neighborhood1    False\n",
       "Condition1a      False\n",
       "Condition2a      False\n",
       "BldgType1        False\n",
       "HouseStyle1      False\n",
       "OverallQual      False\n",
       "OverallCond      False\n",
       "YearBuilt        False\n",
       "YearRemodAdd     False\n",
       "BedroomAbvGr     False\n",
       "TotRmsAbvGrd     False\n",
       "Fireplaces       False\n",
       "GarageCars       False\n",
       "GarageArea       False\n",
       "PavedDrive1      False\n",
       "MoSold           False\n",
       "YrSold           False\n",
       "RoofStyle1       False\n",
       "RoofMatl1        False\n",
       "Exterior1st1     False\n",
       "Exterior2nd1     False\n",
       "SalePrice        False\n",
       "dtype: bool"
      ]
     },
     "execution_count": 7,
     "metadata": {},
     "output_type": "execute_result"
    }
   ],
   "source": [
    "s=pd.Series([X])\n",
    "df.isnull().any()"
   ]
  },
  {
   "cell_type": "code",
   "execution_count": 8,
   "metadata": {},
   "outputs": [
    {
     "data": {
      "text/plain": [
       "LinearRegression(copy_X=True, fit_intercept=True, n_jobs=1, normalize=False)"
      ]
     },
     "execution_count": 8,
     "metadata": {},
     "output_type": "execute_result"
    }
   ],
   "source": [
    "from sklearn.linear_model import LinearRegression\n",
    "regressor = LinearRegression()\n",
    "regressor.fit(X_train, y_train)"
   ]
  },
  {
   "cell_type": "code",
   "execution_count": 9,
   "metadata": {},
   "outputs": [],
   "source": [
    "y_pred = regressor.predict(X_test)"
   ]
  },
  {
   "cell_type": "code",
   "execution_count": 10,
   "metadata": {},
   "outputs": [
    {
     "data": {
      "text/plain": [
       "1.0"
      ]
     },
     "execution_count": 10,
     "metadata": {},
     "output_type": "execute_result"
    }
   ],
   "source": [
    "from sklearn import metrics\n",
    "metrics.r2_score(y_test, y_pred)"
   ]
  },
  {
   "cell_type": "code",
   "execution_count": null,
   "metadata": {},
   "outputs": [],
   "source": []
  }
 ],
 "metadata": {
  "kernelspec": {
   "display_name": "Python 3",
   "language": "python",
   "name": "python3"
  },
  "language_info": {
   "codemirror_mode": {
    "name": "ipython",
    "version": 3
   },
   "file_extension": ".py",
   "mimetype": "text/x-python",
   "name": "python",
   "nbconvert_exporter": "python",
   "pygments_lexer": "ipython3",
   "version": "3.6.5"
  }
 },
 "nbformat": 4,
 "nbformat_minor": 2
}
